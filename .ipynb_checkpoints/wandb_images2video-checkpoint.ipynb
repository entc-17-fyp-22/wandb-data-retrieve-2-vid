{
 "cells": [
  {
   "cell_type": "code",
   "execution_count": 1,
   "metadata": {},
   "outputs": [],
   "source": [
    "import wandb\n",
    "api = wandb.Api()\n"
   ]
  },
  {
   "cell_type": "code",
   "execution_count": 2,
   "metadata": {},
   "outputs": [],
   "source": [
    "run = api.run(\"fypteam22/feature_tests/1s7rde0e\")\n",
    "for file in run.files():\n",
    "    file.download()"
   ]
  },
  {
   "cell_type": "code",
   "execution_count": 27,
   "metadata": {},
   "outputs": [],
   "source": [
    "import cv2\n",
    "import os\n",
    "\n",
    "image_folder = 'media/images'\n",
    "video_name = 'video_1.mp4'\n",
    "\n",
    "images = [img for img in os.listdir(image_folder) if img.startswith(\"Validation\")]\n"
   ]
  },
  {
   "cell_type": "code",
   "execution_count": 28,
   "metadata": {},
   "outputs": [],
   "source": [
    "images.sort(key=lambda x: int(x.split('_')[1]))"
   ]
  },
  {
   "cell_type": "code",
   "execution_count": 29,
   "metadata": {},
   "outputs": [
    {
     "data": {
      "text/plain": [
       "['Validation Examples_0_b0e70c655929526125fd.png',\n",
       " 'Validation Examples_1_113de0146772d2cfa113.png',\n",
       " 'Validation Examples_2_6ee0cf19411860eddd8c.png',\n",
       " 'Validation Examples_3_173886b7cd61d17eb663.png',\n",
       " 'Validation Examples_4_286606bee3431452e5d5.png',\n",
       " 'Validation Examples_5_b1945540ff62e175260d.png',\n",
       " 'Validation Examples_6_b3fbb0c24c542e0492ff.png',\n",
       " 'Validation Examples_7_494ef985de092525d800.png',\n",
       " 'Validation Examples_8_c8fa7e7dde4860d8003a.png',\n",
       " 'Validation Examples_9_b297f47d4f33bcb48e1e.png',\n",
       " 'Validation Examples_10_fa27328f2ddd79bc0779.png',\n",
       " 'Validation Examples_11_ebb092bad0b577160e63.png',\n",
       " 'Validation Examples_12_d086ed0e56b1825ca64a.png',\n",
       " 'Validation Examples_13_fdf8e60d2de5909cf02b.png',\n",
       " 'Validation Examples_14_57e13cb2ce0c6c570981.png',\n",
       " 'Validation Examples_15_16b6efebb8b95860dcc3.png',\n",
       " 'Validation Examples_16_ee5413cc33ac960e89dd.png',\n",
       " 'Validation Examples_17_5b2fff687963a2203128.png',\n",
       " 'Validation Examples_18_3e84f03608a21b9d72c2.png',\n",
       " 'Validation Examples_19_73309a9b94b3fec97744.png',\n",
       " 'Validation Examples_20_dc5061985d73a4f9c5e4.png',\n",
       " 'Validation Examples_21_1425e85231b1f2cfb315.png',\n",
       " 'Validation Examples_22_d23be59bf441ebdb1f0e.png',\n",
       " 'Validation Examples_23_a64a8d7b7cd5eb7aa64e.png',\n",
       " 'Validation Examples_24_e921e9c1d7296e003ae1.png',\n",
       " 'Validation Examples_25_f1db193707134ee4197e.png',\n",
       " 'Validation Examples_26_e5ff78b2efca2fcb7b7a.png',\n",
       " 'Validation Examples_27_5b6557133c6850d93a1a.png',\n",
       " 'Validation Examples_28_92b05de2953de9ad37b8.png',\n",
       " 'Validation Examples_29_46af677166cefd950195.png',\n",
       " 'Validation Examples_30_c6b507a16fcca7f81a16.png',\n",
       " 'Validation Examples_31_473bc4ec423dd7e837ee.png',\n",
       " 'Validation Examples_32_13883725c7193d865842.png',\n",
       " 'Validation Examples_33_4283b27f38dfd74d48bd.png',\n",
       " 'Validation Examples_34_e07f90a1c450bb9db0f1.png',\n",
       " 'Validation Examples_35_c2d2e74afe611898cd0c.png',\n",
       " 'Validation Examples_36_4f9167d5a69bd959d31b.png',\n",
       " 'Validation Examples_37_76560f540e1b544c7c31.png',\n",
       " 'Validation Examples_38_2249d42b5b282faa75d0.png',\n",
       " 'Validation Examples_39_bcf4c206d2adb8f28a70.png',\n",
       " 'Validation Examples_40_902b4a85aedd6054addb.png',\n",
       " 'Validation Examples_41_f393edea089f2717ffb5.png',\n",
       " 'Validation Examples_42_a40435d2d9b300900b7c.png',\n",
       " 'Validation Examples_43_3023eeb8a24a6f761f10.png',\n",
       " 'Validation Examples_44_c51b8175f3603a748fd6.png',\n",
       " 'Validation Examples_45_5f47137ee62b27370fc0.png',\n",
       " 'Validation Examples_46_803095e427fc56c99899.png',\n",
       " 'Validation Examples_47_089e6635d6cf7ce0e92f.png',\n",
       " 'Validation Examples_48_f0385c034f7fd823c916.png',\n",
       " 'Validation Examples_49_9c3de880a1c9e2ab8ae7.png']"
      ]
     },
     "execution_count": 29,
     "metadata": {},
     "output_type": "execute_result"
    }
   ],
   "source": [
    "images"
   ]
  },
  {
   "cell_type": "code",
   "execution_count": 30,
   "metadata": {},
   "outputs": [],
   "source": [
    "frame = cv2.imread(os.path.join(image_folder, images[0]))\n",
    "height, width, layers = frame.shape\n",
    "\n",
    "video = cv2.VideoWriter(video_name, 0, 1, (width,height))\n",
    "\n",
    "for image in images:\n",
    "    video.write(cv2.imread(os.path.join(image_folder, image)))\n",
    "\n",
    "cv2.destroyAllWindows()\n",
    "video.release()"
   ]
  },
  {
   "cell_type": "code",
   "execution_count": null,
   "metadata": {},
   "outputs": [],
   "source": []
  },
  {
   "cell_type": "code",
   "execution_count": null,
   "metadata": {},
   "outputs": [],
   "source": []
  }
 ],
 "metadata": {
  "kernelspec": {
   "display_name": "Python 3",
   "language": "python",
   "name": "python3"
  },
  "language_info": {
   "codemirror_mode": {
    "name": "ipython",
    "version": 3
   },
   "file_extension": ".py",
   "mimetype": "text/x-python",
   "name": "python",
   "nbconvert_exporter": "python",
   "pygments_lexer": "ipython3",
   "version": "3.7.3"
  }
 },
 "nbformat": 4,
 "nbformat_minor": 4
}
