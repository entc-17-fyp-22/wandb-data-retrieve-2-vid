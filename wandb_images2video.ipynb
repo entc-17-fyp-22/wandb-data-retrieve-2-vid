{
 "cells": [
  {
   "cell_type": "code",
   "execution_count": 24,
   "metadata": {},
   "outputs": [],
   "source": [
    "import wandb\n",
    "api = wandb.Api()\n",
    "\n",
    "# /runs/?\n"
   ]
  },
  {
   "cell_type": "code",
   "execution_count": 25,
   "metadata": {},
   "outputs": [],
   "source": [
    "run = api.run(\"fypteam22/GPC_Initialization/36v6eho9\")\n",
    "for file in run.files():\n",
    "    file.download()"
   ]
  },
  {
   "cell_type": "code",
   "execution_count": 26,
   "metadata": {},
   "outputs": [],
   "source": [
    "import cv2\n",
    "import os\n",
    "\n",
    "image_folder = 'media/images'\n",
    "video_name = 'video_GPC_init_learnable_HELA.mp4'\n",
    "\n",
    "images = [img for img in os.listdir(image_folder) if img.startswith(\"Validation\")]\n"
   ]
  },
  {
   "cell_type": "code",
   "execution_count": 27,
   "metadata": {},
   "outputs": [],
   "source": [
    "images.sort(key=lambda x: int(x.split('_')[1]))"
   ]
  },
  {
   "cell_type": "code",
   "execution_count": 28,
   "metadata": {},
   "outputs": [
    {
     "data": {
      "text/plain": [
       "['Validation Examples_0_6582806f1462066b5593.png',\n",
       " 'Validation Examples_1_961eea06811f68cd5b03.png',\n",
       " 'Validation Examples_2_1398e1c6f264ed588cec.png',\n",
       " 'Validation Examples_3_3c2ea1d6439223ef43d0.png',\n",
       " 'Validation Examples_4_3f8f4fb2b42e8e2ad2c5.png',\n",
       " 'Validation Examples_5_4ec9d50f299b87a290f4.png',\n",
       " 'Validation Examples_6_66b1f7752bba6248dec1.png',\n",
       " 'Validation Examples_7_f257cf35c39affb38aea.png',\n",
       " 'Validation Examples_8_45f9a0c136bc58b4d2e0.png',\n",
       " 'Validation Examples_9_25cad31e4c1662a7a99b.png',\n",
       " 'Validation Examples_10_37fbf2ae47971d150567.png',\n",
       " 'Validation Examples_11_da55e5697f1f2af9f94b.png',\n",
       " 'Validation Examples_12_2c64ef51b5be8060df08.png',\n",
       " 'Validation Examples_13_4c08430b5db280193fdd.png',\n",
       " 'Validation Examples_14_c9b80269067d9351f6ae.png',\n",
       " 'Validation Examples_15_a51841fde2349ad9105f.png',\n",
       " 'Validation Examples_16_76802a545d8b26ace343.png',\n",
       " 'Validation Examples_17_65b78218fc2936ae8629.png',\n",
       " 'Validation Examples_18_e570df6cb4f28cbf218e.png',\n",
       " 'Validation Examples_19_7eb978b1e59d50706509.png',\n",
       " 'Validation Examples_20_492d9263536f5f0ef5d1.png',\n",
       " 'Validation Examples_21_00af012fb7781fcad0e6.png',\n",
       " 'Validation Examples_22_71d39e305c8adf90f5bc.png',\n",
       " 'Validation Examples_23_abc08e866a8e0523ee83.png',\n",
       " 'Validation Examples_24_db5532363436396d92b3.png',\n",
       " 'Validation Examples_25_101503798c3088de33b5.png',\n",
       " 'Validation Examples_26_23b62fa8b5f9f6d1f394.png',\n",
       " 'Validation Examples_27_d63fb9c968d5be5edb19.png',\n",
       " 'Validation Examples_28_466623bcc0f7deafb143.png',\n",
       " 'Validation Examples_29_775a790eec2b68e2e75e.png',\n",
       " 'Validation Examples_30_0f40a7283ff4e43f5343.png',\n",
       " 'Validation Examples_31_65bf2e862e6e72bc9ebb.png',\n",
       " 'Validation Examples_32_ed36f7a448d15b4b7584.png',\n",
       " 'Validation Examples_33_c427f034839f1a9e2a57.png',\n",
       " 'Validation Examples_34_3f689442e0ee48cf0665.png',\n",
       " 'Validation Examples_35_6e0a475108c165d7dc25.png',\n",
       " 'Validation Examples_36_f1ec22c174fddc678f57.png',\n",
       " 'Validation Examples_37_da7ba9ea3b39ae5b6e88.png',\n",
       " 'Validation Examples_38_004803ca1fab5ac2c741.png',\n",
       " 'Validation Examples_39_80371030f5b40a8ae1dc.png',\n",
       " 'Validation Examples_40_61c11a86d2aadc3eecb8.png',\n",
       " 'Validation Examples_41_a607b528ccadd2c9f931.png',\n",
       " 'Validation Examples_42_e221a91b827c1ebfb2b8.png',\n",
       " 'Validation Examples_43_a708eac8bc9ed13aef9d.png',\n",
       " 'Validation Examples_44_3e5efefb927867c929af.png',\n",
       " 'Validation Examples_45_945a5971faf2bd9572a3.png',\n",
       " 'Validation Examples_46_05e23555a6f1759bad03.png',\n",
       " 'Validation Examples_47_e582544da3c0fdb27892.png',\n",
       " 'Validation Examples_48_0ea6e1fc9681a9fb1bb1.png',\n",
       " 'Validation Examples_49_25cb6316060f8c407535.png',\n",
       " 'Validation Examples_50_a4bc3ce9686fc0eae891.png',\n",
       " 'Validation Examples_51_c47f33c1764caf3da6dc.png',\n",
       " 'Validation Examples_52_aae37cbc0e7c350d1ee2.png',\n",
       " 'Validation Examples_53_7bcc99bd9236d2525559.png',\n",
       " 'Validation Examples_54_3bfcbf37a36cf5bdc2af.png',\n",
       " 'Validation Examples_55_e64466ca121b961d564a.png',\n",
       " 'Validation Examples_56_7b180ec62c6cafb9a8fc.png',\n",
       " 'Validation Examples_57_ba1abfb5e48942273895.png',\n",
       " 'Validation Examples_58_bcca3c1216d3e8529456.png',\n",
       " 'Validation Examples_59_4017396ae02491765a73.png',\n",
       " 'Validation Examples_60_8ce4db3e265a8d68c1a0.png',\n",
       " 'Validation Examples_61_0cecfd5984cfa94ca830.png',\n",
       " 'Validation Examples_62_477f220d0530c379a62a.png',\n",
       " 'Validation Examples_63_711d13418fbddda6caa9.png',\n",
       " 'Validation Examples_64_180f73b099de5392f973.png',\n",
       " 'Validation Examples_65_07967714effe2f7a0e4a.png',\n",
       " 'Validation Examples_66_d8414181f702153ed655.png',\n",
       " 'Validation Examples_67_c1b1a132228bd8ec6af5.png',\n",
       " 'Validation Examples_68_4d84b00cb375b357046d.png',\n",
       " 'Validation Examples_69_3b06a67c5921ae14cefc.png',\n",
       " 'Validation Examples_70_2ae04b281a23b485d792.png',\n",
       " 'Validation Examples_71_722d18ab4d8a84f62fc5.png',\n",
       " 'Validation Examples_72_6b506818aae4907fcb6e.png',\n",
       " 'Validation Examples_73_540888973baa1f107c49.png',\n",
       " 'Validation Examples_74_c8422b81dc56d438a57f.png',\n",
       " 'Validation Examples_75_653192d33db653d7d11f.png',\n",
       " 'Validation Examples_76_f5b53f96be43dd932599.png',\n",
       " 'Validation Examples_77_5cf84e1e49b513132913.png',\n",
       " 'Validation Examples_78_c51c88416a0a698444b9.png',\n",
       " 'Validation Examples_79_b959c5c7d3242f8eb779.png',\n",
       " 'Validation Examples_80_efb8efc5cf7f362b5f86.png',\n",
       " 'Validation Examples_81_3b4a599b68ff690d1570.png',\n",
       " 'Validation Examples_82_274783c1f17411a8d156.png',\n",
       " 'Validation Examples_83_90ffe7be8a7be7a5582b.png',\n",
       " 'Validation Examples_84_61c6f247af7f65ededfb.png',\n",
       " 'Validation Examples_85_59bfcc200a3f30cb9e8f.png',\n",
       " 'Validation Examples_86_ff16cef624bef1ea9760.png',\n",
       " 'Validation Examples_87_d0cad41a5b04f1fbbef3.png',\n",
       " 'Validation Examples_88_4d21731687dd0e1a7da1.png',\n",
       " 'Validation Examples_89_284c744866689c8e2a02.png',\n",
       " 'Validation Examples_90_3368e6fa1b1db88650c1.png',\n",
       " 'Validation Examples_91_83b2a6489af0b51f047a.png',\n",
       " 'Validation Examples_92_0a51098c81faefb55a4b.png',\n",
       " 'Validation Examples_93_6afe378d655f60231454.png',\n",
       " 'Validation Examples_94_f3969c2a41d294504e01.png',\n",
       " 'Validation Examples_95_1a5e4289d4655ab9e439.png',\n",
       " 'Validation Examples_96_ad27e4bc3e4563614992.png',\n",
       " 'Validation Examples_97_56001002d322910bd040.png',\n",
       " 'Validation Examples_98_cd0cfe759c104c85ca5b.png',\n",
       " 'Validation Examples_99_d703e22b0b5ef1122881.png']"
      ]
     },
     "execution_count": 28,
     "metadata": {},
     "output_type": "execute_result"
    }
   ],
   "source": [
    "images"
   ]
  },
  {
   "cell_type": "code",
   "execution_count": 29,
   "metadata": {},
   "outputs": [
    {
     "name": "stdout",
     "output_type": "stream",
     "text": [
      "576 1800\n"
     ]
    }
   ],
   "source": [
    "frame = cv2.imread(os.path.join(image_folder, images[0]))\n",
    "height, width, layers = frame.shape\n",
    "\n",
    "\n",
    "print(height, width)\n"
   ]
  },
  {
   "cell_type": "code",
   "execution_count": 18,
   "metadata": {},
   "outputs": [],
   "source": [
    "# video = cv2.VideoWriter(video_name, 0, 1, (width,height))\n",
    "\n",
    "# for image in images:\n",
    "#     video.write(cv2.imread(os.path.join(image_folder, image)))\n",
    "\n",
    "# cv2.destroyAllWindows()\n",
    "# video.release()"
   ]
  },
  {
   "cell_type": "code",
   "execution_count": 30,
   "metadata": {},
   "outputs": [],
   "source": [
    "fourcc = cv2.VideoWriter_fourcc(*'MPEG')\n",
    "video = cv2.VideoWriter(video_name,fourcc, 5.0, (width,height))\n",
    "\n",
    "for image in images:\n",
    "    video.write(cv2.imread(os.path.join(image_folder, image)))\n",
    "\n",
    "cv2.destroyAllWindows()\n",
    "video.release()"
   ]
  },
  {
   "cell_type": "code",
   "execution_count": null,
   "metadata": {},
   "outputs": [],
   "source": []
  }
 ],
 "metadata": {
  "kernelspec": {
   "display_name": "Python 3",
   "language": "python",
   "name": "python3"
  },
  "language_info": {
   "codemirror_mode": {
    "name": "ipython",
    "version": 3
   },
   "file_extension": ".py",
   "mimetype": "text/x-python",
   "name": "python",
   "nbconvert_exporter": "python",
   "pygments_lexer": "ipython3",
   "version": "3.7.3"
  }
 },
 "nbformat": 4,
 "nbformat_minor": 4
}
